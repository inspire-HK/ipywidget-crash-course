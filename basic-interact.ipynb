{
 "cells": [
  {
   "cell_type": "markdown",
   "id": "70c9646d-16a2-4909-961b-51a5cf94a1ef",
   "metadata": {},
   "source": [
    "https://www.youtube.com/watch?v=7hhBZRvzgjA&list=PLAX4txYnwreIKbUtwyHERwIxL8s_-T0eL&index=1"
   ]
  },
  {
   "cell_type": "code",
   "execution_count": 1,
   "id": "f63b99aa-fb50-4d81-b7fd-fa298bdf0bf6",
   "metadata": {},
   "outputs": [
    {
     "name": "stdout",
     "output_type": "stream",
     "text": [
      "8.1.1\n"
     ]
    }
   ],
   "source": [
    "import ipywidgets as widgets\n",
    "print(widgets.__version__)"
   ]
  },
  {
   "cell_type": "code",
   "execution_count": 12,
   "id": "d39260eb-08d9-4122-8dd8-743c668c6fb0",
   "metadata": {},
   "outputs": [],
   "source": [
    "from ipywidgets import interact, interactive, interact_manual, interactive_output, fixed\n"
   ]
  },
  {
   "cell_type": "markdown",
   "id": "0caaf14b-1c96-4a5f-b5e0-275afc502bb3",
   "metadata": {},
   "source": [
    "### 1.1 Simple UI Creation"
   ]
  },
  {
   "cell_type": "code",
   "execution_count": 3,
   "id": "d2686035-e8cd-437e-9516-251494a170ee",
   "metadata": {},
   "outputs": [],
   "source": [
    "def square(x):\n",
    "    return x * x"
   ]
  },
  {
   "cell_type": "code",
   "execution_count": 4,
   "id": "553fda69-c842-462b-b2af-10fbf1a19106",
   "metadata": {},
   "outputs": [
    {
     "data": {
      "application/vnd.jupyter.widget-view+json": {
       "model_id": "98322e92edc54a52a743a566f6b01256",
       "version_major": 2,
       "version_minor": 0
      },
      "text/plain": [
       "interactive(children=(IntSlider(value=5, description='x', max=15, min=-5), Output()), _dom_classes=('widget-in…"
      ]
     },
     "metadata": {},
     "output_type": "display_data"
    },
    {
     "data": {
      "text/plain": [
       "<function __main__.square(x)>"
      ]
     },
     "execution_count": 4,
     "metadata": {},
     "output_type": "execute_result"
    }
   ],
   "source": [
    "interact(square, x=5)"
   ]
  },
  {
   "cell_type": "code",
   "execution_count": 5,
   "id": "dcc64ed9-8803-46cb-b80a-57ff75994d0d",
   "metadata": {},
   "outputs": [],
   "source": [
    "def square(x=5):\n",
    "    return x * x"
   ]
  },
  {
   "cell_type": "code",
   "execution_count": 6,
   "id": "e61387a2-6664-49f7-b6ba-d43be7f09e9c",
   "metadata": {},
   "outputs": [
    {
     "data": {
      "application/vnd.jupyter.widget-view+json": {
       "model_id": "48eec088cd284457b923613dc6c72b52",
       "version_major": 2,
       "version_minor": 0
      },
      "text/plain": [
       "interactive(children=(IntSlider(value=5, description='x', max=15, min=-5), Output()), _dom_classes=('widget-in…"
      ]
     },
     "metadata": {},
     "output_type": "display_data"
    },
    {
     "data": {
      "text/plain": [
       "<function __main__.square(x=5)>"
      ]
     },
     "execution_count": 6,
     "metadata": {},
     "output_type": "execute_result"
    }
   ],
   "source": [
    "interact(square)"
   ]
  },
  {
   "cell_type": "code",
   "execution_count": 7,
   "id": "6237d040-2403-450d-8fec-943daec1d927",
   "metadata": {},
   "outputs": [
    {
     "data": {
      "application/vnd.jupyter.widget-view+json": {
       "model_id": "1fea0e981150435bb8d73882bff80dba",
       "version_major": 2,
       "version_minor": 0
      },
      "text/plain": [
       "interactive(children=(IntSlider(value=5, description='x', max=15, min=-5), Output()), _dom_classes=('widget-in…"
      ]
     },
     "metadata": {},
     "output_type": "display_data"
    }
   ],
   "source": [
    "@interact\n",
    "def square(x=5):\n",
    "    return x * x"
   ]
  },
  {
   "cell_type": "code",
   "execution_count": 8,
   "id": "e0c57be4-a67b-4257-b3b4-1cbb2edbcad6",
   "metadata": {},
   "outputs": [
    {
     "data": {
      "application/vnd.jupyter.widget-view+json": {
       "model_id": "a5c6365787144ca48fba6cab76ccdb29",
       "version_major": 2,
       "version_minor": 0
      },
      "text/plain": [
       "interactive(children=(IntSlider(value=1, description='a', max=3, min=-1), IntSlider(value=2, description='b', …"
      ]
     },
     "metadata": {},
     "output_type": "display_data"
    }
   ],
   "source": [
    "@interact(a=1, b= 2, c= 1)\n",
    "def formula(a,b,c):\n",
    "    return a*5 + b*7 + c*10"
   ]
  },
  {
   "cell_type": "code",
   "execution_count": 13,
   "id": "4d0b2206-276b-4c8c-846a-eb086d160b91",
   "metadata": {},
   "outputs": [
    {
     "data": {
      "application/vnd.jupyter.widget-view+json": {
       "model_id": "25258e786b724ebaa0951fb9335f0c8e",
       "version_major": 2,
       "version_minor": 0
      },
      "text/plain": [
       "interactive(children=(IntSlider(value=4, description='a', max=7, min=1), IntSlider(value=1, description='b', m…"
      ]
     },
     "metadata": {},
     "output_type": "display_data"
    },
    {
     "data": {
      "text/plain": [
       "<function __main__.formula(a, b, c)>"
      ]
     },
     "execution_count": 13,
     "metadata": {},
     "output_type": "execute_result"
    },
    {
     "ename": "",
     "evalue": "",
     "output_type": "error",
     "traceback": [
      "\u001b[1;31mThe Kernel crashed while executing code in the the current cell or a previous cell. Please review the code in the cell(s) to identify a possible cause of the failure. Click <a href='https://aka.ms/vscodeJupyterKernelCrash'>here</a> for more info. View Jupyter <a href='command:jupyter.viewOutput'>log</a> for further details."
     ]
    }
   ],
   "source": [
    "def formula(a,b,c):\n",
    "    return a*5 + b*7 + c*10\n",
    "interact(formula, a=(1, 7), b=1, c=fixed(10))"
   ]
  },
  {
   "cell_type": "markdown",
   "id": "492952b3-877f-46c2-9905-d84e21cacdf2",
   "metadata": {},
   "source": [
    "### 1.3 How \"interact()\" determines widget type ?"
   ]
  },
  {
   "cell_type": "code",
   "execution_count": null,
   "id": "cf2693f3-63ef-44e2-a6f7-974ed28686bd",
   "metadata": {},
   "outputs": [],
   "source": [
    "def concate(a, b):\n",
    "    return a + \" \" + b"
   ]
  },
  {
   "cell_type": "code",
   "execution_count": null,
   "id": "857d8a89-1237-428a-9cee-f86c6818b190",
   "metadata": {},
   "outputs": [],
   "source": [
    "interact(concate, a=\"Hello\", b=\"World\")"
   ]
  },
  {
   "cell_type": "code",
   "execution_count": null,
   "id": "5ffb4b3e-126d-4c61-b444-e0a1e35ffcef",
   "metadata": {},
   "outputs": [],
   "source": [
    "interact(concate, a=[\"Hello\", \"Hi\", \"Good Morning\"] , b=[\"World\", \"John\", \"Peter\"])"
   ]
  },
  {
   "cell_type": "markdown",
   "id": "43f0d20c-e90b-4a79-877d-914aaf802b93",
   "metadata": {},
   "source": [
    "### 1.4 Create Widget Objects with more flexibility"
   ]
  },
  {
   "cell_type": "code",
   "execution_count": null,
   "id": "e30926e3-fa90-494b-91c6-6162a6643a0e",
   "metadata": {},
   "outputs": [],
   "source": [
    "w1 = widgets.IntSlider(value=2, min=0, max=9, step=1, description=\"Param 1\")\n",
    "w2 = widgets.IntSlider(value=4, min=0, max=10, step=2, description=\"Param2\")\n",
    "\n",
    "interact(formula, a=w1, b=w2, c=fixed(10))"
   ]
  },
  {
   "cell_type": "code",
   "execution_count": null,
   "id": "58f76426-8dc5-4c27-b2e1-26be05056da0",
   "metadata": {},
   "outputs": [],
   "source": [
    "w1.value, w2.value"
   ]
  },
  {
   "cell_type": "code",
   "execution_count": null,
   "id": "3ade0396-7c54-4e16-a8df-6560ae189ebf",
   "metadata": {},
   "outputs": [],
   "source": [
    "str1 = widgets.Text(value=\"Hello\", description=\"Param1\")\n",
    "drop1 = widgets.Dropdown(options=[\"Hello\", \"Hi\", \"Hey\"], index =2)"
   ]
  }
 ],
 "metadata": {
  "kernelspec": {
   "display_name": "Python 3 (ipykernel)",
   "language": "python",
   "name": "python3"
  },
  "language_info": {
   "codemirror_mode": {
    "name": "ipython",
    "version": 3
   },
   "file_extension": ".py",
   "mimetype": "text/x-python",
   "name": "python",
   "nbconvert_exporter": "python",
   "pygments_lexer": "ipython3",
   "version": "3.12.0"
  }
 },
 "nbformat": 4,
 "nbformat_minor": 5
}
