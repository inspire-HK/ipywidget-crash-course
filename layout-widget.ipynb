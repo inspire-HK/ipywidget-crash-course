{
 "cells": [
  {
   "cell_type": "code",
   "execution_count": 1,
   "metadata": {},
   "outputs": [
    {
     "name": "stdout",
     "output_type": "stream",
     "text": [
      "8.1.1\n"
     ]
    }
   ],
   "source": [
    "import ipywidgets as widgets\n",
    "print(widgets.__version__)"
   ]
  },
  {
   "cell_type": "markdown",
   "metadata": {},
   "source": [
    "### 1. Individual Widget Layout Setting"
   ]
  },
  {
   "cell_type": "code",
   "execution_count": 2,
   "metadata": {},
   "outputs": [
    {
     "data": {
      "application/vnd.jupyter.widget-view+json": {
       "model_id": "128dd0a296df4bd4ac7bdf352a254f7a",
       "version_major": 2,
       "version_minor": 0
      },
      "text/plain": [
       "Button(description='Submit', style=ButtonStyle())"
      ]
     },
     "execution_count": 2,
     "metadata": {},
     "output_type": "execute_result"
    }
   ],
   "source": [
    "widgets.Button(description=\"Submit\")"
   ]
  },
  {
   "cell_type": "code",
   "execution_count": 3,
   "metadata": {},
   "outputs": [
    {
     "data": {
      "application/vnd.jupyter.widget-view+json": {
       "model_id": "00614f842161403280f27c999a85112a",
       "version_major": 2,
       "version_minor": 0
      },
      "text/plain": [
       "Button(description='Submit', layout=Layout(height='100px', width='250px'), style=ButtonStyle())"
      ]
     },
     "execution_count": 3,
     "metadata": {},
     "output_type": "execute_result"
    }
   ],
   "source": [
    "widgets.Button(description=\"Submit\", layout=widgets.Layout(width=\"250px\", height=\"100px\"))"
   ]
  },
  {
   "cell_type": "code",
   "execution_count": 4,
   "metadata": {},
   "outputs": [
    {
     "data": {
      "application/vnd.jupyter.widget-view+json": {
       "model_id": "102ebec55de142b9a63a49bad1f76227",
       "version_major": 2,
       "version_minor": 0
      },
      "text/plain": [
       "Button(description='Submit', layout=Layout(height='100%', width='40%'), style=ButtonStyle())"
      ]
     },
     "execution_count": 4,
     "metadata": {},
     "output_type": "execute_result"
    }
   ],
   "source": [
    "widgets.Button(description=\"Submit\", layout=widgets.Layout(width=\"40%\", height=\"100%\"))"
   ]
  },
  {
   "cell_type": "code",
   "execution_count": 5,
   "metadata": {},
   "outputs": [
    {
     "data": {
      "application/vnd.jupyter.widget-view+json": {
       "model_id": "0aef2e730c8b4c42aa510f934f50a546",
       "version_major": 2,
       "version_minor": 0
      },
      "text/plain": [
       "Button(description='Submit', layout=Layout(display='flex', height='100px', width='250px'), style=ButtonStyle()…"
      ]
     },
     "execution_count": 5,
     "metadata": {},
     "output_type": "execute_result"
    }
   ],
   "source": [
    "widgets.Button(description=\"Submit\", layout=widgets.Layout(width=\"250px\", height=\"100px\", display=\"flex\"))"
   ]
  },
  {
   "cell_type": "code",
   "execution_count": 6,
   "metadata": {},
   "outputs": [
    {
     "data": {
      "application/vnd.jupyter.widget-view+json": {
       "model_id": "cab77efc1cd84f4d8970f2da006d8ab3",
       "version_major": 2,
       "version_minor": 0
      },
      "text/plain": [
       "Button(description='Submit', layout=Layout(border_bottom='2px solid red', border_left='2px solid red', border_…"
      ]
     },
     "execution_count": 6,
     "metadata": {},
     "output_type": "execute_result"
    }
   ],
   "source": [
    "widgets.Button(description=\"Submit\", layout=widgets.Layout(width=\"250px\", height=\"100px\", border=\"2px solid red\"))"
   ]
  },
  {
   "cell_type": "code",
   "execution_count": 7,
   "metadata": {},
   "outputs": [
    {
     "data": {
      "application/vnd.jupyter.widget-view+json": {
       "model_id": "425b175a760d4da0b62c342be3e5d097",
       "version_major": 2,
       "version_minor": 0
      },
      "text/plain": [
       "Button(description='Submit', layout=Layout(height='100%', margin='25px', padding='25px', width='40%'), style=B…"
      ]
     },
     "execution_count": 7,
     "metadata": {},
     "output_type": "execute_result"
    }
   ],
   "source": [
    "widgets.Button(description=\"Submit\", layout=widgets.Layout(width=\"40%\", height=\"100%\", margin=\"25px\", padding=\"25px\"))"
   ]
  },
  {
   "cell_type": "markdown",
   "metadata": {},
   "source": [
    "### 2. HBox & VBox (Layout Widgets Horizontally & Vertically)"
   ]
  },
  {
   "cell_type": "code",
   "execution_count": 8,
   "metadata": {},
   "outputs": [
    {
     "data": {
      "application/vnd.jupyter.widget-view+json": {
       "model_id": "38b0c5584d214a208690243b45606c96",
       "version_major": 2,
       "version_minor": 0
      },
      "text/plain": [
       "HBox(children=(Button(description='Button1', style=ButtonStyle()), Button(description='Button2', style=ButtonS…"
      ]
     },
     "execution_count": 8,
     "metadata": {},
     "output_type": "execute_result"
    }
   ],
   "source": [
    "b1 = widgets.Button(description=\"Button1\")\n",
    "b2 = widgets.Button(description=\"Button2\")\n",
    "\n",
    "widgets.HBox([b1, b2])"
   ]
  },
  {
   "cell_type": "code",
   "execution_count": 9,
   "metadata": {},
   "outputs": [
    {
     "data": {
      "application/vnd.jupyter.widget-view+json": {
       "model_id": "5228db7fbd5e426ea2f1d1401b33c973",
       "version_major": 2,
       "version_minor": 0
      },
      "text/plain": [
       "VBox(children=(Button(description='Button1', style=ButtonStyle()), Button(description='Button2', style=ButtonS…"
      ]
     },
     "execution_count": 9,
     "metadata": {},
     "output_type": "execute_result"
    }
   ],
   "source": [
    "b1 = widgets.Button(description=\"Button1\")\n",
    "b2 = widgets.Button(description=\"Button2\")\n",
    "\n",
    "widgets.VBox([b1, b2])"
   ]
  },
  {
   "cell_type": "code",
   "execution_count": 10,
   "metadata": {},
   "outputs": [
    {
     "data": {
      "application/vnd.jupyter.widget-view+json": {
       "model_id": "0df10ffd46cb4d75a7e883e7a17b3e30",
       "version_major": 2,
       "version_minor": 0
      },
      "text/plain": [
       "HBox(children=(Button(description='Button1', style=ButtonStyle()), Button(description='Button2', style=ButtonS…"
      ]
     },
     "execution_count": 10,
     "metadata": {},
     "output_type": "execute_result"
    }
   ],
   "source": [
    "b1 = widgets.Button(description=\"Button1\")\n",
    "b2 = widgets.Button(description=\"Button2\")\n",
    "\n",
    "widgets.HBox([b1, b2, widgets.VBox([b1, b2])])"
   ]
  },
  {
   "cell_type": "markdown",
   "metadata": {},
   "source": [
    "### 3. Flex Box Layout (CSS Flex for Bootstrap & Other Flex Frameworks)"
   ]
  },
  {
   "cell_type": "code",
   "execution_count": 11,
   "metadata": {},
   "outputs": [
    {
     "data": {
      "application/vnd.jupyter.widget-view+json": {
       "model_id": "36e0b6d7e4d64cdbb93b1ed46905fee6",
       "version_major": 2,
       "version_minor": 0
      },
      "text/plain": [
       "Box(children=(Button(description='Button1', style=ButtonStyle()), Button(description='Button2', style=ButtonSt…"
      ]
     },
     "execution_count": 11,
     "metadata": {},
     "output_type": "execute_result"
    }
   ],
   "source": [
    "b1 = widgets.Button(description=\"Button1\")\n",
    "b2 = widgets.Button(description=\"Button2\")\n",
    "b3 = widgets.Button(description=\"Button3\")\n",
    "b4 = widgets.Button(description=\"Button4\")\n",
    "\n",
    "widgets.Box([b1,b2,b3,b4])"
   ]
  },
  {
   "cell_type": "code",
   "execution_count": 12,
   "metadata": {},
   "outputs": [
    {
     "data": {
      "application/vnd.jupyter.widget-view+json": {
       "model_id": "8eb46efb22514a9e92aae8b49f07b766",
       "version_major": 2,
       "version_minor": 0
      },
      "text/plain": [
       "Box(children=(Button(description='Button1', style=ButtonStyle()), Button(description='Button2', style=ButtonSt…"
      ]
     },
     "execution_count": 12,
     "metadata": {},
     "output_type": "execute_result"
    }
   ],
   "source": [
    "widgets.Box([b1,b2,b3,b4], layout=widgets.Layout(flex_flow=\"column\"))"
   ]
  },
  {
   "cell_type": "code",
   "execution_count": 13,
   "metadata": {},
   "outputs": [
    {
     "data": {
      "application/vnd.jupyter.widget-view+json": {
       "model_id": "bd69c48f8f5b4826ac73e8a840c39b9d",
       "version_major": 2,
       "version_minor": 0
      },
      "text/plain": [
       "Box(children=(Button(description='Button1', layout=Layout(width='100px'), style=ButtonStyle()), Button(descrip…"
      ]
     },
     "execution_count": 13,
     "metadata": {},
     "output_type": "execute_result"
    }
   ],
   "source": [
    "b1 = widgets.Button(description=\"Button1\", layout=widgets.Layout(width=\"100px\"))\n",
    "b2 = widgets.Button(description=\"Button2\", layout=widgets.Layout(width=\"150px\"))\n",
    "b3 = widgets.Button(description=\"Button3\", layout=widgets.Layout(width=\"80px\"))\n",
    "\n",
    "widgets.Box([b1,b2,b3], layout=widgets.Layout(justify_content=\"center\"))"
   ]
  },
  {
   "cell_type": "code",
   "execution_count": 14,
   "metadata": {},
   "outputs": [
    {
     "data": {
      "application/vnd.jupyter.widget-view+json": {
       "model_id": "98446b0432b54e35b224e92037317b86",
       "version_major": 2,
       "version_minor": 0
      },
      "text/plain": [
       "Box(children=(Button(description='Button1', layout=Layout(width='100px'), style=ButtonStyle()), Button(descrip…"
      ]
     },
     "execution_count": 14,
     "metadata": {},
     "output_type": "execute_result"
    }
   ],
   "source": [
    "widgets.Box([b1,b2,b3], layout=widgets.Layout(justify_content=\"flex-end\"))"
   ]
  },
  {
   "cell_type": "code",
   "execution_count": 15,
   "metadata": {},
   "outputs": [
    {
     "data": {
      "application/vnd.jupyter.widget-view+json": {
       "model_id": "980fbb4187eb402cb8ed10633f5742a9",
       "version_major": 2,
       "version_minor": 0
      },
      "text/plain": [
       "Box(children=(Button(description='Button1', layout=Layout(width='100px'), style=ButtonStyle()), Button(descrip…"
      ]
     },
     "execution_count": 15,
     "metadata": {},
     "output_type": "execute_result"
    }
   ],
   "source": [
    "widgets.Box([b1,b2,b3], layout=widgets.Layout(height=\"200px\", display=\"flex\", justify_content=\"center\", align_items=\"center\"))"
   ]
  },
  {
   "cell_type": "markdown",
   "metadata": {},
   "source": [
    "### 4. Grid Box Layout"
   ]
  },
  {
   "cell_type": "code",
   "execution_count": 17,
   "metadata": {},
   "outputs": [
    {
     "data": {
      "application/vnd.jupyter.widget-view+json": {
       "model_id": "a060ac209336493f948d688311f1bd7d",
       "version_major": 2,
       "version_minor": 0
      },
      "text/plain": [
       "GridBox(children=(Button(description='B-1', layout=Layout(height='auto', width='auto'), style=ButtonStyle()), …"
      ]
     },
     "execution_count": 17,
     "metadata": {},
     "output_type": "execute_result"
    }
   ],
   "source": [
    "btn_layout = widgets.Layout(width=\"auto\", height=\"auto\")\n",
    "\n",
    "buttons = [ widgets.Button(description=\"B-{}\".format(i), layout=btn_layout) for i in range(1,16)]\n",
    "\n",
    "widgets.GridBox(buttons, layout=widgets.Layout(grid_template_columns=\"150px 200px 250px 300px\", grid_template_row=\"100px 120px auto 80px\"))"
   ]
  },
  {
   "cell_type": "code",
   "execution_count": 19,
   "metadata": {},
   "outputs": [
    {
     "data": {
      "application/vnd.jupyter.widget-view+json": {
       "model_id": "ad659c63b81e487e87e4eb2a632a1b61",
       "version_major": 2,
       "version_minor": 0
      },
      "text/plain": [
       "GridBox(children=(Button(description='B-1', layout=Layout(height='auto', width='auto'), style=ButtonStyle()), …"
      ]
     },
     "execution_count": 19,
     "metadata": {},
     "output_type": "execute_result"
    }
   ],
   "source": [
    "btn_layout = widgets.Layout(width=\"auto\", height=\"auto\")\n",
    "\n",
    "buttons = [ widgets.Button(description=\"B-{}\".format(i), layout=btn_layout) for i in range(1,16)]\n",
    "\n",
    "widgets.GridBox(buttons, layout=widgets.Layout(width=\"75\", grid_template_columns=\"10% 15% 20% 30%\", grid_template_row=\"100px 120px auto 80px\", grid_gap=\"8px 2px\"))"
   ]
  },
  {
   "cell_type": "markdown",
   "metadata": {},
   "source": [
    "### 5. Grid Spec Layout"
   ]
  },
  {
   "cell_type": "code",
   "execution_count": 20,
   "metadata": {},
   "outputs": [
    {
     "data": {
      "application/vnd.jupyter.widget-view+json": {
       "model_id": "022d7ade27334079ab13c3ee5db29ccb",
       "version_major": 2,
       "version_minor": 0
      },
      "text/plain": [
       "GridspecLayout(children=(Button(description='Button (0, 0)', layout=Layout(grid_area='widget001'), style=Butto…"
      ]
     },
     "execution_count": 20,
     "metadata": {},
     "output_type": "execute_result"
    }
   ],
   "source": [
    "grid = widgets.GridspecLayout(n_rows=3, n_columns=2)\n",
    "\n",
    "for i in range(3):\n",
    "    for j in range(2):\n",
    "        grid[i,j] = widgets.Button(description=\"Button (%d, %d)\"%(i,j))\n",
    "\n",
    "grid"
   ]
  },
  {
   "cell_type": "code",
   "execution_count": 21,
   "metadata": {},
   "outputs": [
    {
     "data": {
      "application/vnd.jupyter.widget-view+json": {
       "model_id": "15d3a6a6552c4a92b89006c08a765e84",
       "version_major": 2,
       "version_minor": 0
      },
      "text/plain": [
       "GridspecLayout(children=(Button(description='Button (0, 0)', layout=Layout(grid_area='widget001'), style=Butto…"
      ]
     },
     "execution_count": 21,
     "metadata": {},
     "output_type": "execute_result"
    }
   ],
   "source": [
    "grid = widgets.GridspecLayout(n_rows=3, n_columns=3, width=\"50%\", grid_gap=\"10px 5px\")\n",
    "\n",
    "for i in range(3):\n",
    "    for j in range(3):\n",
    "        grid[i,j] = widgets.Button(description=\"Button (%d, %d)\"%(i,j))\n",
    "\n",
    "grid"
   ]
  },
  {
   "cell_type": "code",
   "execution_count": 22,
   "metadata": {},
   "outputs": [
    {
     "data": {
      "application/vnd.jupyter.widget-view+json": {
       "model_id": "fcf7cd5b508348ac9425270c35e18708",
       "version_major": 2,
       "version_minor": 0
      },
      "text/plain": [
       "GridspecLayout(children=(Button(description='Top', layout=Layout(grid_area='widget001', width='auto'), style=B…"
      ]
     },
     "execution_count": 22,
     "metadata": {},
     "output_type": "execute_result"
    }
   ],
   "source": [
    "grid = widgets.GridspecLayout(n_rows=4, n_columns=4, grid_gap=\"2px\")\n",
    "\n",
    "grid[0,:] = widgets.Button(description=\"Top\", layout=widgets.Layout(width=\"auto\"))\n",
    "\n",
    "grid[1:,0] = widgets.Button(description=\"Left\", layout=widgets.Layout(width=\"auto\", height=\"auto\"))\n",
    "\n",
    "grid[1:3,1] = widgets.Button(description=\"Center-1\", layout=widgets.Layout(width=\"auto\", height=\"auto\"))\n",
    "grid[1:3,2] = widgets.Button(description=\"Center-2\", layout=widgets.Layout(width=\"auto\", height=\"auto\"))\n",
    "\n",
    "grid[1:3,-1] = widgets.Button(description=\"Right\", layout=widgets.Layout(width=\"auto\", height=\"auto\"))\n",
    "\n",
    "grid[3,1:] = widgets.Button(description=\"Bottom\", layout=widgets.Layout(width=\"auto\", height=\"auto\"))\n",
    "\n",
    "grid"
   ]
  },
  {
   "cell_type": "markdown",
   "metadata": {},
   "source": [
    "### App Layout"
   ]
  },
  {
   "cell_type": "code",
   "execution_count": 23,
   "metadata": {},
   "outputs": [
    {
     "data": {
      "application/vnd.jupyter.widget-view+json": {
       "model_id": "dcd9b4e9dc544cbeab90f8f37f060bf4",
       "version_major": 2,
       "version_minor": 0
      },
      "text/plain": [
       "AppLayout(children=(Button(description='Header', layout=Layout(grid_area='header', height='auto', width='auto'…"
      ]
     },
     "execution_count": 23,
     "metadata": {},
     "output_type": "execute_result"
    }
   ],
   "source": [
    "header = widgets.Button(description=\"Header\", layout=widgets.Layout(width=\"auto\", height=\"auto\"))\n",
    "left = widgets.Button(description=\"Left\", layout=widgets.Layout(width=\"auto\", height=\"auto\"))\n",
    "right = widgets.Button(description=\"Right\", layout=widgets.Layout(width=\"auto\", height=\"auto\"))\n",
    "center = widgets.Button(description=\"Center\", layout=widgets.Layout(width=\"auto\", height=\"auto\"))\n",
    "footer = widgets.Button(description=\"Footer\", layout=widgets.Layout(width=\"auto\", height=\"auto\"))\n",
    "\n",
    "widgets.AppLayout(header=header, left_sidebar=left, center=center, right_sidebar=right, footer=footer)"
   ]
  },
  {
   "cell_type": "code",
   "execution_count": 24,
   "metadata": {},
   "outputs": [
    {
     "data": {
      "application/vnd.jupyter.widget-view+json": {
       "model_id": "3e19368a87f24ff79c31a49309e91154",
       "version_major": 2,
       "version_minor": 0
      },
      "text/plain": [
       "AppLayout(children=(Button(description='Header', layout=Layout(grid_area='header', height='auto', width='auto'…"
      ]
     },
     "execution_count": 24,
     "metadata": {},
     "output_type": "execute_result"
    }
   ],
   "source": [
    "widgets.AppLayout(header=header, left_sidebar=left, center=center, right_sidebar=right, footer=footer, width=\"75%\")"
   ]
  },
  {
   "cell_type": "code",
   "execution_count": 25,
   "metadata": {},
   "outputs": [
    {
     "data": {
      "application/vnd.jupyter.widget-view+json": {
       "model_id": "cc254d65d85f420f89effec656fa39c4",
       "version_major": 2,
       "version_minor": 0
      },
      "text/plain": [
       "AppLayout(children=(Button(description='Header', layout=Layout(grid_area='header', height='auto', width='auto'…"
      ]
     },
     "execution_count": 25,
     "metadata": {},
     "output_type": "execute_result"
    }
   ],
   "source": [
    "widgets.AppLayout(header=header, left_sidebar=left, right_sidebar=right, footer=footer, width=\"75%\")"
   ]
  },
  {
   "cell_type": "code",
   "execution_count": 26,
   "metadata": {},
   "outputs": [
    {
     "data": {
      "application/vnd.jupyter.widget-view+json": {
       "model_id": "e64058f8f1594a9183edb12ccdf65a07",
       "version_major": 2,
       "version_minor": 0
      },
      "text/plain": [
       "AppLayout(children=(Button(description='Header', layout=Layout(grid_area='header', height='auto', width='auto'…"
      ]
     },
     "execution_count": 26,
     "metadata": {},
     "output_type": "execute_result"
    }
   ],
   "source": [
    "widgets.AppLayout(header=header, left_sidebar=left, right_sidebar=right, footer=footer, width=\"75%\", merge=False)"
   ]
  },
  {
   "cell_type": "markdown",
   "metadata": {},
   "source": [
    "### 7. Two By Two Layout"
   ]
  },
  {
   "cell_type": "code",
   "execution_count": 27,
   "metadata": {},
   "outputs": [
    {
     "data": {
      "application/vnd.jupyter.widget-view+json": {
       "model_id": "79afafea630e43b383c7de1b1ad02988",
       "version_major": 2,
       "version_minor": 0
      },
      "text/plain": [
       "TwoByTwoLayout(children=(Button(description='Top Left', layout=Layout(grid_area='top-left', height='auto', wid…"
      ]
     },
     "execution_count": 27,
     "metadata": {},
     "output_type": "execute_result"
    }
   ],
   "source": [
    "b1 = widgets.Button(description=\"Top Left\", layout=widgets.Layout(width=\"auto\", height=\"auto\"))\n",
    "b2 = widgets.Button(description=\"Top Right\", layout=widgets.Layout(width=\"auto\", height=\"auto\"))\n",
    "b3 = widgets.Button(description=\"Bottom Left\", layout=widgets.Layout(width=\"auto\", height=\"auto\"))\n",
    "b4 = widgets.Button(description=\"Bottom Left\", layout=widgets.Layout(width=\"auto\", height=\"auto\"))\n",
    "\n",
    "widgets.TwoByTwoLayout(top_left=b1, top_right=b2, bottom_left=b3, bottom_right=b4)"
   ]
  },
  {
   "cell_type": "code",
   "execution_count": 28,
   "metadata": {},
   "outputs": [
    {
     "data": {
      "application/vnd.jupyter.widget-view+json": {
       "model_id": "7a912206aa594c798ebde586959d5eb3",
       "version_major": 2,
       "version_minor": 0
      },
      "text/plain": [
       "TwoByTwoLayout(children=(Button(description='Top Left', layout=Layout(grid_area='top-left', height='auto', wid…"
      ]
     },
     "execution_count": 28,
     "metadata": {},
     "output_type": "execute_result"
    }
   ],
   "source": [
    "widgets.TwoByTwoLayout(top_left=b1, top_right=b2, bottom_right=b4)"
   ]
  },
  {
   "cell_type": "code",
   "execution_count": 29,
   "metadata": {},
   "outputs": [
    {
     "data": {
      "application/vnd.jupyter.widget-view+json": {
       "model_id": "b9b9e57b0f434058849004c6f68492e1",
       "version_major": 2,
       "version_minor": 0
      },
      "text/plain": [
       "TwoByTwoLayout(children=(Button(description='Top Left', layout=Layout(grid_area='top-left', height='auto', wid…"
      ]
     },
     "execution_count": 29,
     "metadata": {},
     "output_type": "execute_result"
    },
    {
     "ename": "",
     "evalue": "",
     "output_type": "error",
     "traceback": [
      "\u001b[1;31mThe Kernel crashed while executing code in the the current cell or a previous cell. Please review the code in the cell(s) to identify a possible cause of the failure. Click <a href='https://aka.ms/vscodeJupyterKernelCrash'>here</a> for more info. View Jupyter <a href='command:jupyter.viewOutput'>log</a> for further details."
     ]
    }
   ],
   "source": [
    "widgets.TwoByTwoLayout(top_left=b1, top_right=b2, bottom_right=b4, merge=False)"
   ]
  }
 ],
 "metadata": {
  "kernelspec": {
   "display_name": "Python 3",
   "language": "python",
   "name": "python3"
  },
  "language_info": {
   "codemirror_mode": {
    "name": "ipython",
    "version": 3
   },
   "file_extension": ".py",
   "mimetype": "text/x-python",
   "name": "python",
   "nbconvert_exporter": "python",
   "pygments_lexer": "ipython3",
   "version": "3.12.0"
  }
 },
 "nbformat": 4,
 "nbformat_minor": 2
}
