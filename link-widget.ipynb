{
 "cells": [
  {
   "cell_type": "markdown",
   "metadata": {},
   "source": [
    "Linking multiple widgets"
   ]
  },
  {
   "cell_type": "code",
   "execution_count": 2,
   "metadata": {},
   "outputs": [
    {
     "name": "stdout",
     "output_type": "stream",
     "text": [
      "8.1.1\n"
     ]
    }
   ],
   "source": [
    "import ipywidgets as widgets\n",
    "print(widgets.__version__)"
   ]
  },
  {
   "cell_type": "markdown",
   "metadata": {},
   "source": [
    "### 1. Python Linking\n",
    "#### 1.1 Two Way Link\n",
    "* link(source, target, transform=Non)"
   ]
  },
  {
   "cell_type": "code",
   "execution_count": 5,
   "metadata": {},
   "outputs": [
    {
     "data": {
      "application/vnd.jupyter.widget-view+json": {
       "model_id": "3fb63b3830d642a1ae5ee0a0bc0eefcb",
       "version_major": 2,
       "version_minor": 0
      },
      "text/plain": [
       "IntText(value=5, description='Int Text Box:')"
      ]
     },
     "metadata": {},
     "output_type": "display_data"
    },
    {
     "data": {
      "application/vnd.jupyter.widget-view+json": {
       "model_id": "3aa266b8fb3d43f0b7e2d75a2abb1897",
       "version_major": 2,
       "version_minor": 0
      },
      "text/plain": [
       "IntSlider(value=5, description='Int Slider:')"
      ]
     },
     "metadata": {},
     "output_type": "display_data"
    }
   ],
   "source": [
    "x = widgets.IntText(description=\"Int Text Box:\", value=5)\n",
    "y = widgets.IntSlider(description=\"Int Slider:\")\n",
    "\n",
    "two_way_link_python =widgets.link((x, 'value'), (y, 'value'))\n",
    "display(x,y)"
   ]
  },
  {
   "cell_type": "code",
   "execution_count": 8,
   "metadata": {},
   "outputs": [
    {
     "data": {
      "application/vnd.jupyter.widget-view+json": {
       "model_id": "12f2e7181ad64eee83bdb0e52ba1c10d",
       "version_major": 2,
       "version_minor": 0
      },
      "text/plain": [
       "Dropdown(description='Drop Down:', options=(('Opt1', 0), ('Option2', 1), ('Opt3', 2)), value=0)"
      ]
     },
     "metadata": {},
     "output_type": "display_data"
    },
    {
     "data": {
      "application/vnd.jupyter.widget-view+json": {
       "model_id": "3ab6dd1df60444af8402ee624d29c617",
       "version_major": 2,
       "version_minor": 0
      },
      "text/plain": [
       "IntSlider(value=0, description='Int Slider:', max=2)"
      ]
     },
     "metadata": {},
     "output_type": "display_data"
    }
   ],
   "source": [
    "x = widgets.Dropdown(description=\"Drop Down:\", options=[(\"Opt1\", 0), (\"Option2\", 1), (\"Opt3\", 2)])\n",
    "y = widgets.IntSlider(description=\"Int Slider:\", min=0, max=2)\n",
    "\n",
    "two_way_link_python2 =widgets.link((x, 'value'), (y, 'value'))\n",
    "display(x,y)"
   ]
  },
  {
   "cell_type": "code",
   "execution_count": 10,
   "metadata": {},
   "outputs": [
    {
     "data": {
      "application/vnd.jupyter.widget-view+json": {
       "model_id": "81e6012ba38c4b11a9b4719138dc3fb4",
       "version_major": 2,
       "version_minor": 0
      },
      "text/plain": [
       "IntText(value=0, description='Min:')"
      ]
     },
     "metadata": {},
     "output_type": "display_data"
    },
    {
     "data": {
      "application/vnd.jupyter.widget-view+json": {
       "model_id": "48cb339c30504d9ebcc4cb143f4615dd",
       "version_major": 2,
       "version_minor": 0
      },
      "text/plain": [
       "IntText(value=10, description='Max:')"
      ]
     },
     "metadata": {},
     "output_type": "display_data"
    },
    {
     "data": {
      "application/vnd.jupyter.widget-view+json": {
       "model_id": "990c399cbc504b2eb6a5727c5b8f6d12",
       "version_major": 2,
       "version_minor": 0
      },
      "text/plain": [
       "IntText(value=1, description='Step:')"
      ]
     },
     "metadata": {},
     "output_type": "display_data"
    },
    {
     "data": {
      "application/vnd.jupyter.widget-view+json": {
       "model_id": "07dd7fec80a942dca9ed8974476e9662",
       "version_major": 2,
       "version_minor": 0
      },
      "text/plain": [
       "Text(value='weight', description='Label:')"
      ]
     },
     "metadata": {},
     "output_type": "display_data"
    },
    {
     "data": {
      "application/vnd.jupyter.widget-view+json": {
       "model_id": "8fb45e53c17549cab7c302643c5bd1a8",
       "version_major": 2,
       "version_minor": 0
      },
      "text/plain": [
       "IntSlider(value=0, description='weight', max=10)"
      ]
     },
     "metadata": {},
     "output_type": "display_data"
    }
   ],
   "source": [
    "x1 = widgets.IntText(description=\"Min:\", value=0)\n",
    "x2 = widgets.IntText(description=\"Max:\", value=10)\n",
    "x3 = widgets.IntText(description=\"Step:\", value=1)\n",
    "x4 = widgets.Text(description=\"Label:\", value=\"weight\")\n",
    "\n",
    "y = widgets.IntSlider(description=\"Int Slider:\")\n",
    "\n",
    "two_way_link_python1 = widgets.link((x1, 'value'), ( y, 'min'))\n",
    "two_way_link_python2 = widgets.link((x2, 'value'), ( y, 'max'))\n",
    "two_way_link_python3 = widgets.link((x3, 'value'), ( y, 'step'))\n",
    "two_way_link_python4 = widgets.link((x4, 'value'), ( y, 'description'))\n",
    "\n",
    "display(x1,x2,x3,x4,y)\n"
   ]
  },
  {
   "cell_type": "markdown",
   "metadata": {},
   "source": [
    "#### 1.2 One Way Linking\n",
    "* dlink(source, target, transform=None) - "
   ]
  },
  {
   "cell_type": "code",
   "execution_count": 11,
   "metadata": {},
   "outputs": [
    {
     "data": {
      "application/vnd.jupyter.widget-view+json": {
       "model_id": "13c9a4d9b88147e5a8018b87eca5983b",
       "version_major": 2,
       "version_minor": 0
      },
      "text/plain": [
       "IntText(value=5, description='Int Text Box:')"
      ]
     },
     "metadata": {},
     "output_type": "display_data"
    },
    {
     "data": {
      "application/vnd.jupyter.widget-view+json": {
       "model_id": "4427f28aaf30476a833c464892c26dbc",
       "version_major": 2,
       "version_minor": 0
      },
      "text/plain": [
       "IntSlider(value=5, description='Int Slider:')"
      ]
     },
     "metadata": {},
     "output_type": "display_data"
    }
   ],
   "source": [
    "x = widgets.IntText(description=\"Int Text Box:\", value=5)\n",
    "y = widgets.IntSlider(description=\"Int Slider:\")\n",
    "\n",
    "one_way_link_python = widgets.dlink((x, 'value'), ( y, 'value'))\n",
    "display(x,y)"
   ]
  },
  {
   "cell_type": "code",
   "execution_count": 12,
   "metadata": {},
   "outputs": [
    {
     "data": {
      "application/vnd.jupyter.widget-view+json": {
       "model_id": "46faf51151c64fa898861aeb12e6695c",
       "version_major": 2,
       "version_minor": 0
      },
      "text/plain": [
       "IntText(value=0, description='Min:')"
      ]
     },
     "metadata": {},
     "output_type": "display_data"
    },
    {
     "data": {
      "application/vnd.jupyter.widget-view+json": {
       "model_id": "0217e31789ac48afac7ba36b4bd52ca1",
       "version_major": 2,
       "version_minor": 0
      },
      "text/plain": [
       "IntText(value=10, description='Max:')"
      ]
     },
     "metadata": {},
     "output_type": "display_data"
    },
    {
     "data": {
      "application/vnd.jupyter.widget-view+json": {
       "model_id": "fc65bc534f5b499892cd1d4553f66fa0",
       "version_major": 2,
       "version_minor": 0
      },
      "text/plain": [
       "IntText(value=1, description='Step:')"
      ]
     },
     "metadata": {},
     "output_type": "display_data"
    },
    {
     "data": {
      "application/vnd.jupyter.widget-view+json": {
       "model_id": "052e0800d36a4cde9c28ba588120dca8",
       "version_major": 2,
       "version_minor": 0
      },
      "text/plain": [
       "Text(value='weight', description='Label:')"
      ]
     },
     "metadata": {},
     "output_type": "display_data"
    },
    {
     "data": {
      "application/vnd.jupyter.widget-view+json": {
       "model_id": "62c1b6539c544702919850acbf00e32b",
       "version_major": 2,
       "version_minor": 0
      },
      "text/plain": [
       "IntSlider(value=0, description='weight', max=10)"
      ]
     },
     "metadata": {},
     "output_type": "display_data"
    }
   ],
   "source": [
    "x1 = widgets.IntText(description=\"Min:\", value=0)\n",
    "x2 = widgets.IntText(description=\"Max:\", value=10)\n",
    "x3 = widgets.IntText(description=\"Step:\", value=1)\n",
    "x4 = widgets.Text(description=\"Label:\", value=\"weight\")\n",
    "\n",
    "y = widgets.IntSlider(description=\"Int Slider:\")\n",
    "\n",
    "one_way_link_python1 = widgets.dlink((x1, 'value'), ( y, 'min'))\n",
    "one_way_link_python2 = widgets.dlink((x2, 'value'), ( y, 'max'))\n",
    "one_way_link_python3 = widgets.dlink((x3, 'value'), ( y, 'step'))\n",
    "one_way_link_python4 = widgets.dlink((x4, 'value'), ( y, 'description'))\n",
    "\n",
    "display(x1,x2,x3,x4,y)\n"
   ]
  },
  {
   "cell_type": "code",
   "execution_count": 13,
   "metadata": {},
   "outputs": [
    {
     "data": {
      "application/vnd.jupyter.widget-view+json": {
       "model_id": "a1c2e35b9b894ab495634fa3b4ceee56",
       "version_major": 2,
       "version_minor": 0
      },
      "text/plain": [
       "Checkbox(value=False, description='Disable ?')"
      ]
     },
     "metadata": {},
     "output_type": "display_data"
    },
    {
     "data": {
      "application/vnd.jupyter.widget-view+json": {
       "model_id": "b68fbe8662094cc099e66038b1358fd4",
       "version_major": 2,
       "version_minor": 0
      },
      "text/plain": [
       "Button(description='Button', style=ButtonStyle())"
      ]
     },
     "metadata": {},
     "output_type": "display_data"
    }
   ],
   "source": [
    "x=widgets.Checkbox(description=\"Disable ?\")\n",
    "y=widgets.Button(description=\"Button\")\n",
    "\n",
    "widgets.dlink((x, \"value\"), (y, \"disabled\"))\n",
    "\n",
    "display(x,y)"
   ]
  },
  {
   "cell_type": "code",
   "execution_count": 14,
   "metadata": {},
   "outputs": [],
   "source": [
    "two_way_link_python.unlink()\n",
    "one_way_link_python.unlink()"
   ]
  },
  {
   "cell_type": "markdown",
   "metadata": {},
   "source": [
    "### 2. Javascript Linking\n",
    "#### 2.1 Two Way Linking"
   ]
  },
  {
   "cell_type": "code",
   "execution_count": 19,
   "metadata": {},
   "outputs": [
    {
     "data": {
      "application/vnd.jupyter.widget-view+json": {
       "model_id": "769978e074754245ab7ee25117b419bc",
       "version_major": 2,
       "version_minor": 0
      },
      "text/plain": [
       "IntText(value=5, description='Int Text Box:')"
      ]
     },
     "metadata": {},
     "output_type": "display_data"
    },
    {
     "data": {
      "application/vnd.jupyter.widget-view+json": {
       "model_id": "eb753083c7b64cf398e19ea9c5af287b",
       "version_major": 2,
       "version_minor": 0
      },
      "text/plain": [
       "IntSlider(value=0, description='Int Sliders')"
      ]
     },
     "metadata": {},
     "output_type": "display_data"
    }
   ],
   "source": [
    "x = widgets.IntText(description=\"Int Text Box:\", value=5)\n",
    "y = widgets.IntSlider(description=\"Int Sliders\")\n",
    "\n",
    "two_way_link_javascript = widgets.jslink((x, 'value'), ( y, 'value'))\n",
    "\n",
    "display(x,y)"
   ]
  },
  {
   "cell_type": "markdown",
   "metadata": {},
   "source": [
    "#### 2.2 One Way Linking"
   ]
  },
  {
   "cell_type": "code",
   "execution_count": 20,
   "metadata": {},
   "outputs": [
    {
     "data": {
      "application/vnd.jupyter.widget-view+json": {
       "model_id": "21d154cda4cc45babf5097c4581ca56e",
       "version_major": 2,
       "version_minor": 0
      },
      "text/plain": [
       "IntText(value=5, description='Int Text Box:')"
      ]
     },
     "metadata": {},
     "output_type": "display_data"
    },
    {
     "data": {
      "application/vnd.jupyter.widget-view+json": {
       "model_id": "74d3310c290a47aa9b5ba8bb205fb640",
       "version_major": 2,
       "version_minor": 0
      },
      "text/plain": [
       "IntSlider(value=0, description='Int Sliders')"
      ]
     },
     "metadata": {},
     "output_type": "display_data"
    }
   ],
   "source": [
    "x = widgets.IntText(description=\"Int Text Box:\", value=5)\n",
    "y = widgets.IntSlider(description=\"Int Sliders\")\n",
    "\n",
    "one_way_link_javascript = widgets.jsdlink((x, 'value'), ( y, 'value'))\n",
    "\n",
    "display(x,y)"
   ]
  },
  {
   "cell_type": "code",
   "execution_count": 21,
   "metadata": {},
   "outputs": [],
   "source": [
    "two_way_link_javascript.unlink()\n",
    "one_way_link_javascript.unlink()"
   ]
  }
 ],
 "metadata": {
  "kernelspec": {
   "display_name": "Python 3",
   "language": "python",
   "name": "python3"
  },
  "language_info": {
   "codemirror_mode": {
    "name": "ipython",
    "version": 3
   },
   "file_extension": ".py",
   "mimetype": "text/x-python",
   "name": "python",
   "nbconvert_exporter": "python",
   "pygments_lexer": "ipython3",
   "version": "3.12.0"
  }
 },
 "nbformat": 4,
 "nbformat_minor": 2
}
