{
 "cells": [
  {
   "cell_type": "code",
   "execution_count": 1,
   "id": "f9328f3e-95a0-4f2f-9256-d15efefe582f",
   "metadata": {},
   "outputs": [
    {
     "name": "stdout",
     "output_type": "stream",
     "text": [
      "value:  Output() \n",
      "type of out: <class 'ipywidgets.widgets.widget_output.Output'>\n"
     ]
    },
    {
     "data": {
      "application/vnd.jupyter.widget-view+json": {
       "model_id": "cb227d32bdb04490a5ba2c9103cf1cf8",
       "version_major": 2,
       "version_minor": 0
      },
      "text/plain": [
       "Output()"
      ]
     },
     "execution_count": 1,
     "metadata": {},
     "output_type": "execute_result"
    }
   ],
   "source": [
    "import ipywidgets as widgets\n",
    "\n",
    "out = widgets.Output()\n",
    "print('value: ', out, '\\ntype of out:', type(out))\n",
    "out"
   ]
  },
  {
   "cell_type": "code",
   "execution_count": 2,
   "id": "e8078f95-2ec5-463a-a3b3-8f1bb4744d80",
   "metadata": {},
   "outputs": [],
   "source": [
    "with out:\n",
    "    print(\"1st: This is output widget\") # result is shown in (bottom of) cell#1"
   ]
  },
  {
   "cell_type": "code",
   "execution_count": 4,
   "id": "ba0617c1-5498-4a71-9b1f-26bb23abe2a9",
   "metadata": {},
   "outputs": [],
   "source": [
    "with out:\n",
    "    print(\"2nd: This is second string\") # result is shown in (bottom of) cell#1"
   ]
  },
  {
   "cell_type": "code",
   "execution_count": 5,
   "id": "f8f91d02-b786-4f7b-a3b4-c64928340d58",
   "metadata": {},
   "outputs": [],
   "source": [
    "def formula(a, b, c):\n",
    "    print('formula: ', a*5 + b*7 + c*10)\n",
    "\n",
    "# result will be shown in cell#1\n",
    "with out:\n",
    "    formula(1, 1, 1)"
   ]
  },
  {
   "cell_type": "code",
   "execution_count": 6,
   "id": "e6e551f9-1eb7-4d34-8f94-0a2d52904b87",
   "metadata": {},
   "outputs": [],
   "source": [
    "from IPython.display import YouTubeVideo\n",
    "video_out = widgets.Output()\n",
    "\n",
    "with video_out:\n",
    "    display(YouTubeVideo(\"jS3uhxD-5Cs\"))"
   ]
  },
  {
   "cell_type": "code",
   "execution_count": 7,
   "id": "8bc71067-b0cd-425d-a16b-3de80f60e7fb",
   "metadata": {},
   "outputs": [
    {
     "data": {
      "application/vnd.jupyter.widget-view+json": {
       "model_id": "bd1c94cf205a40e6bf902dddd4a6b000",
       "version_major": 2,
       "version_minor": 0
      },
      "text/plain": [
       "Output(outputs=({'output_type': 'display_data', 'data': {'text/plain': '<IPython.lib.display.YouTubeVideo at 0…"
      ]
     },
     "execution_count": 7,
     "metadata": {},
     "output_type": "execute_result"
    }
   ],
   "source": [
    "video_out # display here"
   ]
  },
  {
   "cell_type": "code",
   "execution_count": 8,
   "id": "617c3134-9812-49fc-a73c-7e878327c74d",
   "metadata": {},
   "outputs": [],
   "source": [
    "from IPython.display import HTML\n",
    "\n",
    "with video_out:\n",
    "    display(HTML(\"<h1>Hello World</h1>\")) # append <h1 /> below youTube video"
   ]
  },
  {
   "cell_type": "code",
   "execution_count": 9,
   "id": "e1fe7224-2938-445b-9e7f-36a68a5822f2",
   "metadata": {},
   "outputs": [],
   "source": [
    "from IPython.display import Image\n",
    "\n",
    "with video_out:\n",
    "    display(Image(filename=\"inspireHK.png\", width=50)) # append image"
   ]
  },
  {
   "cell_type": "code",
   "execution_count": 10,
   "id": "6e6b02cd-ea78-48cd-b1f5-b470e88edaf1",
   "metadata": {},
   "outputs": [],
   "source": [
    "from IPython.display import Audio, Code, FileLink, GeoJSON, IFrame, Latex, VimeoVideo"
   ]
  },
  {
   "cell_type": "markdown",
   "id": "c0fd6f52-acc1-45c4-a0fb-baba2c889fa8",
   "metadata": {},
   "source": [
    "### 2. Capture Function Output"
   ]
  },
  {
   "cell_type": "code",
   "execution_count": 11,
   "id": "fd7f4428-a4b2-466c-a4b7-f0a73c0cbad4",
   "metadata": {},
   "outputs": [],
   "source": [
    "@out.capture()\n",
    "def formula(a, b, c):\n",
    "    print('new formula result: ', a*5 + b*7 + c*10)\n"
   ]
  },
  {
   "cell_type": "code",
   "execution_count": 12,
   "id": "b21e7313-0184-4b37-be8c-fa7ee56dec08",
   "metadata": {},
   "outputs": [],
   "source": [
    "formula(1.5, 2.5, 6.5) # result is shown in (bottom of) cell#1, appending to \"out\""
   ]
  },
  {
   "cell_type": "markdown",
   "id": "69256d89-9f65-4942-b38b-0e47f2130143",
   "metadata": {},
   "source": [
    "### 3. interactive_output() to create output widget"
   ]
  },
  {
   "cell_type": "code",
   "execution_count": 13,
   "id": "23c951e0-5be2-4e1c-aa70-0aa09f44bef0",
   "metadata": {},
   "outputs": [
    {
     "data": {
      "application/vnd.jupyter.widget-view+json": {
       "model_id": "9288d070098246c7b87ccadd02432e5d",
       "version_major": 2,
       "version_minor": 0
      },
      "text/plain": [
       "IntSlider(value=2, description='Param1', max=10)"
      ]
     },
     "metadata": {},
     "output_type": "display_data"
    },
    {
     "data": {
      "application/vnd.jupyter.widget-view+json": {
       "model_id": "5ae427028a8f463eabff5b86df83b2fb",
       "version_major": 2,
       "version_minor": 0
      },
      "text/plain": [
       "IntSlider(value=2, description='Param2', max=10)"
      ]
     },
     "metadata": {},
     "output_type": "display_data"
    },
    {
     "data": {
      "application/vnd.jupyter.widget-view+json": {
       "model_id": "30519d95e3664916a91b9da981c6d31f",
       "version_major": 2,
       "version_minor": 0
      },
      "text/plain": [
       "IntSlider(value=2, description='Param3', max=10)"
      ]
     },
     "metadata": {},
     "output_type": "display_data"
    },
    {
     "data": {
      "application/vnd.jupyter.widget-view+json": {
       "model_id": "7d36ef3f5c58421fa84ceb01a963329c",
       "version_major": 2,
       "version_minor": 0
      },
      "text/plain": [
       "Output()"
      ]
     },
     "metadata": {},
     "output_type": "display_data"
    }
   ],
   "source": [
    "from ipywidgets import interactive_output\n",
    "\n",
    "def formula(a, b, c):\n",
    "    print('interactive output >> ', a + b + c)\n",
    "\n",
    "w1 = widgets.IntSlider(value=2, min=0, max=10, step=1, description='Param1')\n",
    "w2 = widgets.IntSlider(value=2, min=0, max=10, step=1, description='Param2')\n",
    "w3 = widgets.IntSlider(value=2, min=0, max=10, step=1, description='Param3')\n",
    "\n",
    "gui = interactive_output(formula, { \"a\": w1, \"b\": w2, \"c\": w3});\n",
    "display(w1,w2,w3,gui)"
   ]
  },
  {
   "cell_type": "code",
   "execution_count": 14,
   "id": "016dff91-7249-484e-8ebd-075026d73488",
   "metadata": {},
   "outputs": [
    {
     "data": {
      "text/plain": [
       "ipywidgets.widgets.widget_output.Output"
      ]
     },
     "execution_count": 14,
     "metadata": {},
     "output_type": "execute_result"
    }
   ],
   "source": [
    "type(gui)"
   ]
  },
  {
   "cell_type": "markdown",
   "id": "2e4016cd",
   "metadata": {},
   "source": [
    "### 4. clear Output Widget"
   ]
  },
  {
   "cell_type": "code",
   "execution_count": 15,
   "id": "e4b8d50a",
   "metadata": {},
   "outputs": [
    {
     "data": {
      "application/vnd.jupyter.widget-view+json": {
       "model_id": "cb227d32bdb04490a5ba2c9103cf1cf8",
       "version_major": 2,
       "version_minor": 0
      },
      "text/plain": [
       "Output(outputs=({'name': 'stdout', 'text': '1st: This is output widget\\n2nd: This is second string\\n2nd: This …"
      ]
     },
     "execution_count": 15,
     "metadata": {},
     "output_type": "execute_result"
    }
   ],
   "source": [
    "out"
   ]
  },
  {
   "cell_type": "code",
   "execution_count": 16,
   "id": "3fe73730",
   "metadata": {},
   "outputs": [
    {
     "data": {
      "application/vnd.jupyter.widget-view+json": {
       "model_id": "7d36ef3f5c58421fa84ceb01a963329c",
       "version_major": 2,
       "version_minor": 0
      },
      "text/plain": [
       "Output(outputs=({'name': 'stdout', 'text': 'interactive output >>  6\\n', 'output_type': 'stream'},))"
      ]
     },
     "execution_count": 16,
     "metadata": {},
     "output_type": "execute_result"
    }
   ],
   "source": [
    "gui"
   ]
  },
  {
   "cell_type": "code",
   "execution_count": 17,
   "id": "339bc3de",
   "metadata": {},
   "outputs": [],
   "source": [
    "out.clear_output()"
   ]
  },
  {
   "cell_type": "code",
   "execution_count": 18,
   "id": "48f57148",
   "metadata": {},
   "outputs": [],
   "source": [
    "gui.clear_output()"
   ]
  },
  {
   "cell_type": "markdown",
   "id": "8eab7995",
   "metadata": {},
   "source": [
    "### 5. Direct Chat to Output Widget"
   ]
  },
  {
   "cell_type": "code",
   "execution_count": 23,
   "id": "fae82be1",
   "metadata": {},
   "outputs": [
    {
     "data": {
      "application/vnd.jupyter.widget-view+json": {
       "model_id": "1916a0b2664649bea860fc91dd15d1ad",
       "version_major": 2,
       "version_minor": 0
      },
      "text/plain": [
       "FloatSlider(value=0.4, description='m', max=5.0, min=-5.0, step=0.5)"
      ]
     },
     "metadata": {},
     "output_type": "display_data"
    },
    {
     "data": {
      "application/vnd.jupyter.widget-view+json": {
       "model_id": "9ed7836181a745028b417004f8b93240",
       "version_major": 2,
       "version_minor": 0
      },
      "text/plain": [
       "FloatSlider(value=0.4, description='constant', max=10.0, min=-5.0, step=0.5)"
      ]
     },
     "metadata": {},
     "output_type": "display_data"
    },
    {
     "data": {
      "application/vnd.jupyter.widget-view+json": {
       "model_id": "29a2229e1230452ba2c4078b24f8432b",
       "version_major": 2,
       "version_minor": 0
      },
      "text/plain": [
       "Output()"
      ]
     },
     "metadata": {},
     "output_type": "display_data"
    }
   ],
   "source": [
    "from ipywidgets import interactive_output\n",
    "import matplotlib.pyplot as plt\n",
    "import numpy as np\n",
    "\n",
    "def create_line(m, c):\n",
    "    x = np.arange(100)\n",
    "    y = m*x + c\n",
    "\n",
    "    fig = plt.figure(figsize=(8,5))\n",
    "    plt.plot(x, y)\n",
    "\n",
    "m = widgets.FloatSlider(value=2/5, min=-5, max=5, step=0.5, description=\"m\")\n",
    "c = widgets.FloatSlider(value=2/5, min=-5, max=10, step=0.5, description=\"constant\")\n",
    "\n",
    "gui = interactive_output(create_line, { \"m\": m, \"c\": c})\n",
    "\n",
    "display(m, c, gui)"
   ]
  },
  {
   "cell_type": "markdown",
   "id": "f1ad40d5",
   "metadata": {},
   "source": [
    "### 6. Append Data to Output Widget"
   ]
  },
  {
   "cell_type": "code",
   "execution_count": 20,
   "id": "6a2bd712",
   "metadata": {},
   "outputs": [
    {
     "data": {
      "application/vnd.jupyter.widget-view+json": {
       "model_id": "cb227d32bdb04490a5ba2c9103cf1cf8",
       "version_major": 2,
       "version_minor": 0
      },
      "text/plain": [
       "Output()"
      ]
     },
     "execution_count": 20,
     "metadata": {},
     "output_type": "execute_result"
    }
   ],
   "source": [
    "out"
   ]
  },
  {
   "cell_type": "code",
   "execution_count": 22,
   "id": "c35cac08",
   "metadata": {},
   "outputs": [],
   "source": [
    "out.append_stdout(\"Testing, \")\n",
    "out.append_stdout(\"Testing2, \")\n",
    "out.append_stdout(\"Testing3, \")\n",
    "\n",
    "out.append_stderr(\"Error\")"
   ]
  },
  {
   "cell_type": "code",
   "execution_count": 24,
   "id": "bf5991f3",
   "metadata": {},
   "outputs": [],
   "source": [
    "from IPython.display import HTML\n",
    "\n",
    "out.append_display_data(HTML(\"<h1>Hello :)</h1\"))"
   ]
  },
  {
   "cell_type": "code",
   "execution_count": 25,
   "id": "0f99d6bd",
   "metadata": {},
   "outputs": [],
   "source": [
    "from IPython.display import Image\n",
    "\n",
    "img = Image(filename=\"./inspireHK.png\", width=50)\n",
    "out.append_display_data(img)"
   ]
  },
  {
   "cell_type": "code",
   "execution_count": 26,
   "id": "d685fb7d",
   "metadata": {},
   "outputs": [],
   "source": [
    "from IPython.display import Markdown\n",
    "\n",
    "formatted_text = '''\n",
    "# A long markdown Test\n",
    " * point#1\n",
    " * point#2\n",
    "'''\n",
    "\n",
    "out.append_display_data(Markdown(formatted_text))"
   ]
  },
  {
   "cell_type": "code",
   "execution_count": 27,
   "id": "dbf47527",
   "metadata": {},
   "outputs": [],
   "source": [
    "from IPython.display import Audio, Code, FileLink, GeoJSON, IFrame, Latex, VimeoVideo, ScribdDocument"
   ]
  },
  {
   "cell_type": "markdown",
   "id": "78cc4ffe",
   "metadata": {},
   "source": [
    "### 7. Style Change"
   ]
  },
  {
   "cell_type": "code",
   "execution_count": 28,
   "id": "3c19ae53",
   "metadata": {},
   "outputs": [
    {
     "data": {
      "application/vnd.jupyter.widget-view+json": {
       "model_id": "cb227d32bdb04490a5ba2c9103cf1cf8",
       "version_major": 2,
       "version_minor": 0
      },
      "text/plain": [
       "Output(outputs=({'output_type': 'stream', 'name': 'stdout', 'text': 'Testing'}, {'output_type': 'stream', 'nam…"
      ]
     },
     "execution_count": 28,
     "metadata": {},
     "output_type": "execute_result"
    }
   ],
   "source": [
    "out"
   ]
  },
  {
   "cell_type": "code",
   "execution_count": 35,
   "id": "a5f36f32",
   "metadata": {},
   "outputs": [],
   "source": [
    "out.layout = { \"border\": \"2px dashed green\"}"
   ]
  },
  {
   "cell_type": "code",
   "execution_count": 30,
   "id": "33d0eb01",
   "metadata": {},
   "outputs": [],
   "source": [
    "out.layout = { \"border\": \"2px solid violet\", \"width\": \"500px\", \"height\": \"500px\"}"
   ]
  },
  {
   "cell_type": "code",
   "execution_count": 34,
   "id": "c223ea23",
   "metadata": {},
   "outputs": [
    {
     "data": {
      "application/vnd.jupyter.widget-view+json": {
       "model_id": "53f3f7a506464397823c8830716d87a9",
       "version_major": 2,
       "version_minor": 0
      },
      "text/plain": [
       "Output(layout=Layout(border_bottom='2px solid red', border_left='2px solid red', border_right='2px solid red',…"
      ]
     },
     "execution_count": 34,
     "metadata": {},
     "output_type": "execute_result"
    }
   ],
   "source": [
    "out = widgets.Output(layout={ \"border\": \"2px solid red\", \"width\": \"100px\", \"height\": \"100px\"})\n",
    "out"
   ]
  }
 ],
 "metadata": {
  "kernelspec": {
   "display_name": "Python 3 (ipykernel)",
   "language": "python",
   "name": "python3"
  },
  "language_info": {
   "codemirror_mode": {
    "name": "ipython",
    "version": 3
   },
   "file_extension": ".py",
   "mimetype": "text/x-python",
   "name": "python",
   "nbconvert_exporter": "python",
   "pygments_lexer": "ipython3",
   "version": "3.12.0"
  }
 },
 "nbformat": 4,
 "nbformat_minor": 5
}
