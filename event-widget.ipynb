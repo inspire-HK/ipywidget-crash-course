{
 "cells": [
  {
   "cell_type": "code",
   "execution_count": 1,
   "metadata": {},
   "outputs": [
    {
     "name": "stdout",
     "output_type": "stream",
     "text": [
      "8.1.1\n"
     ]
    }
   ],
   "source": [
    "import ipywidgets as widgets\n",
    "\n",
    "print(widgets.__version__)"
   ]
  },
  {
   "cell_type": "markdown",
   "metadata": {},
   "source": [
    "### 1. Simple Examples"
   ]
  },
  {
   "cell_type": "code",
   "execution_count": 2,
   "metadata": {},
   "outputs": [
    {
     "data": {
      "application/vnd.jupyter.widget-view+json": {
       "model_id": "77c2a6c1807d491383e53545386228fb",
       "version_major": 2,
       "version_minor": 0
      },
      "text/plain": [
       "IntSlider(value=5, description='Param1', max=10)"
      ]
     },
     "execution_count": 2,
     "metadata": {},
     "output_type": "execute_result"
    },
    {
     "name": "stdout",
     "output_type": "stream",
     "text": [
      "change: > {'name': 'value', 'old': 5, 'new': 6, 'owner': IntSlider(value=6, description='Param1', max=10), 'type': 'change'}\n",
      "change: > {'name': 'value', 'old': 6, 'new': 7, 'owner': IntSlider(value=7, description='Param1', max=10), 'type': 'change'}\n",
      "change: > {'name': 'value', 'old': 7, 'new': 6, 'owner': IntSlider(value=6, description='Param1', max=10), 'type': 'change'}\n",
      "change: > {'name': 'value', 'old': 6, 'new': 7, 'owner': IntSlider(value=7, description='Param1', max=10), 'type': 'change'}\n",
      "change: >>> {'name': 'value', 'old': 6, 'new': 7, 'owner': IntSlider(value=7, description='Param1', max=10), 'type': 'change'}\n"
     ]
    }
   ],
   "source": [
    "w1 = widgets.IntSlider(description=\"Param1\", value=5, min=0, max=10)\n",
    "w1"
   ]
  },
  {
   "cell_type": "code",
   "execution_count": 3,
   "metadata": {},
   "outputs": [],
   "source": [
    "def callback(change):\n",
    "    print('change: >', change)\n",
    "\n",
    "w1.observe(callback, names=\"value\")"
   ]
  },
  {
   "cell_type": "code",
   "execution_count": 4,
   "metadata": {},
   "outputs": [],
   "source": [
    "def callback(change):\n",
    "    print('change: >>>', change)\n",
    "\n",
    "w1.observe(callback, names=[\"value\", \"min\"])"
   ]
  },
  {
   "cell_type": "code",
   "execution_count": 5,
   "metadata": {},
   "outputs": [
    {
     "name": "stdout",
     "output_type": "stream",
     "text": [
      "change: >>> {'name': 'min', 'old': 0, 'new': -5, 'owner': IntSlider(value=7, description='Param1', max=10, min=-5), 'type': 'change'}\n"
     ]
    }
   ],
   "source": [
    "w1.min = -5"
   ]
  },
  {
   "cell_type": "code",
   "execution_count": 7,
   "metadata": {},
   "outputs": [
    {
     "data": {
      "application/vnd.jupyter.widget-view+json": {
       "model_id": "c343e2534c3b45bf9b821f5c5a2800ac",
       "version_major": 2,
       "version_minor": 0
      },
      "text/plain": [
       "IntSlider(value=5, description='Param1', max=10)"
      ]
     },
     "metadata": {},
     "output_type": "display_data"
    },
    {
     "data": {
      "application/vnd.jupyter.widget-view+json": {
       "model_id": "5ba3fd7152414adfb5d36a0b8a423a23",
       "version_major": 2,
       "version_minor": 0
      },
      "text/plain": [
       "Label(value='The Value of Slider is: ')"
      ]
     },
     "metadata": {},
     "output_type": "display_data"
    }
   ],
   "source": [
    "w1 = widgets.IntSlider(description=\"Param1\", value=5, min=0, max=10)\n",
    "w2 = widgets.Label(value=\"The Value of Slider is: \")\n",
    "\n",
    "def w1_callback(change):\n",
    "    w2.value = \"The Value of Slider is : {}\".format(change['new'])\n",
    "\n",
    "w1.observe(w1_callback, names=\"value\")\n",
    "\n",
    "display(w1, w2)"
   ]
  },
  {
   "cell_type": "code",
   "execution_count": 12,
   "metadata": {},
   "outputs": [
    {
     "data": {
      "application/vnd.jupyter.widget-view+json": {
       "model_id": "8df9cc8db80d4909a118d5ee28f90d78",
       "version_major": 2,
       "version_minor": 0
      },
      "text/plain": [
       "FloatSlider(value=2.5, continuous_update=False, description='m', max=5.0, min=-5.0, step=0.5)"
      ]
     },
     "metadata": {},
     "output_type": "display_data"
    },
    {
     "data": {
      "application/vnd.jupyter.widget-view+json": {
       "model_id": "b081976148af4aa0848a11ce21ffa555",
       "version_major": 2,
       "version_minor": 0
      },
      "text/plain": [
       "FloatSlider(value=5.0, continuous_update=False, description='c', max=5.0, min=-5.0, step=0.5)"
      ]
     },
     "metadata": {},
     "output_type": "display_data"
    },
    {
     "data": {
      "application/vnd.jupyter.widget-view+json": {
       "model_id": "c73d73cd65e440cab3531ab457ce910e",
       "version_major": 2,
       "version_minor": 0
      },
      "text/plain": [
       "Output()"
      ]
     },
     "metadata": {},
     "output_type": "display_data"
    }
   ],
   "source": [
    "import numpy as np\n",
    "import matplotlib.pyplot as plt\n",
    "\n",
    "m = widgets.FloatSlider(value=2.5, min=-5, max=5, step=0.5, description=\"m\", continuous_update=False)\n",
    "c = widgets.FloatSlider(value=8.5, min=-5, max=5, step=0.5, description=\"c\", continuous_update=False)\n",
    "\n",
    "out = widgets.Output()\n",
    "\n",
    "@out.capture(clear_output=True)\n",
    "def create_line(change):\n",
    "    x = np.arange(100)\n",
    "    y = m.value * x + c.value\n",
    "\n",
    "    fig = plt.figure(figsize=(8,5))\n",
    "    plt.plot(x,y)\n",
    "    plt.show()\n",
    "\n",
    "m.observe(create_line, names=\"value\")\n",
    "c.observe(create_line, names=\"value\")\n",
    "\n",
    "display(m, c, out)"
   ]
  },
  {
   "cell_type": "markdown",
   "metadata": {},
   "source": [
    "### 2. Multiple Callbacks of Single Widget"
   ]
  },
  {
   "cell_type": "code",
   "execution_count": 15,
   "metadata": {},
   "outputs": [
    {
     "data": {
      "application/vnd.jupyter.widget-view+json": {
       "model_id": "638a08dff22d4e509f2b29128d39673d",
       "version_major": 2,
       "version_minor": 0
      },
      "text/plain": [
       "IntSlider(value=5, description='Param1', max=10)"
      ]
     },
     "metadata": {},
     "output_type": "display_data"
    },
    {
     "data": {
      "application/vnd.jupyter.widget-view+json": {
       "model_id": "264539ae9ff0403a83ac0f9ae7115775",
       "version_major": 2,
       "version_minor": 0
      },
      "text/plain": [
       "IntText(value=2, description='Param2')"
      ]
     },
     "metadata": {},
     "output_type": "display_data"
    },
    {
     "data": {
      "application/vnd.jupyter.widget-view+json": {
       "model_id": "212e87ecb2f6404bbeb3ee961282e3d6",
       "version_major": 2,
       "version_minor": 0
      },
      "text/plain": [
       "Label(value='')"
      ]
     },
     "metadata": {},
     "output_type": "display_data"
    }
   ],
   "source": [
    "w1 = widgets.IntSlider(description=\"Param1\", value=5, min=0, max=10)\n",
    "w2 = widgets.IntText(description=\"Param2\", value=2)\n",
    "w3 = widgets.Label(value=\"\")\n",
    "\n",
    "def callback1(change):\n",
    "    w2.value = w1.value\n",
    "\n",
    "def callback2(change):\n",
    "    w3.value = \"The Value of {} is: {}\".format(change['owner'].__class__.__name__, change['new']  )\n",
    "\n",
    "w1.observe(callback1, \"value\")\n",
    "w1.observe(callback2, \"value\")\n",
    "\n",
    "display(w1, w2, w3)"
   ]
  },
  {
   "cell_type": "markdown",
   "metadata": {},
   "source": [
    "### 3. Button Event"
   ]
  },
  {
   "cell_type": "code",
   "execution_count": 20,
   "metadata": {},
   "outputs": [
    {
     "data": {
      "application/vnd.jupyter.widget-view+json": {
       "model_id": "73cd2ade8b874992b65ad3fcc32c40fd",
       "version_major": 2,
       "version_minor": 0
      },
      "text/plain": [
       "Button(description='Click Me', style=ButtonStyle())"
      ]
     },
     "execution_count": 20,
     "metadata": {},
     "output_type": "execute_result"
    }
   ],
   "source": [
    "button = widgets.Button(description=\"Click Me\")\n",
    "\n",
    "def button_clicked(b):\n",
    "    button.description = \"Clicked\" if button.description == \"Click Me\" else \"Click Me\"\n",
    "    button.button_style = \"success\" if button.description == \"Click Me\" else \"danger\"\n",
    "\n",
    "button.on_click(button_clicked)\n",
    "\n",
    "button"
   ]
  },
  {
   "cell_type": "markdown",
   "metadata": {},
   "source": [
    "### 4. Few Examples"
   ]
  },
  {
   "cell_type": "markdown",
   "metadata": {},
   "source": [
    "#### 4.1 Check Box"
   ]
  },
  {
   "cell_type": "code",
   "execution_count": 22,
   "metadata": {},
   "outputs": [
    {
     "data": {
      "application/vnd.jupyter.widget-view+json": {
       "model_id": "05daa6d78f974087bff4bcf2711dda7c",
       "version_major": 2,
       "version_minor": 0
      },
      "text/plain": [
       "Checkbox(value=False, description='Save Model ?')"
      ]
     },
     "metadata": {},
     "output_type": "display_data"
    },
    {
     "data": {
      "application/vnd.jupyter.widget-view+json": {
       "model_id": "9bcc1fe574d848c89e046a13018b7e5f",
       "version_major": 2,
       "version_minor": 0
      },
      "text/plain": [
       "Label(value='')"
      ]
     },
     "metadata": {},
     "output_type": "display_data"
    }
   ],
   "source": [
    "w1 = widgets.Checkbox(description=\"Save Model ?\")\n",
    "w2 = widgets.Label(value=\"\")\n",
    "\n",
    "def w1_callback(change):\n",
    "    w2.value = \"The Value of {} is: {}\".format(change['owner'].__class__.__name__, change[\"new\"])\n",
    "\n",
    "w1.observe(w1_callback, \"value\")\n",
    "\n",
    "display(w1, w2)"
   ]
  },
  {
   "cell_type": "markdown",
   "metadata": {},
   "source": [
    "#### 4.2 Toggle Button"
   ]
  },
  {
   "cell_type": "code",
   "execution_count": 23,
   "metadata": {},
   "outputs": [
    {
     "data": {
      "application/vnd.jupyter.widget-view+json": {
       "model_id": "fbe840dcedff45deaee4eb6b568c60e2",
       "version_major": 2,
       "version_minor": 0
      },
      "text/plain": [
       "ToggleButton(value=False, description='Save Model ?')"
      ]
     },
     "metadata": {},
     "output_type": "display_data"
    },
    {
     "data": {
      "application/vnd.jupyter.widget-view+json": {
       "model_id": "440b5fc8c6bb4f489bc0ef40447de4a5",
       "version_major": 2,
       "version_minor": 0
      },
      "text/plain": [
       "Label(value='')"
      ]
     },
     "metadata": {},
     "output_type": "display_data"
    }
   ],
   "source": [
    "w1 = widgets.ToggleButton(description=\"Save Model ?\")\n",
    "w2 = widgets.Label(value=\"\")\n",
    "\n",
    "def w1_callback(change):\n",
    "    w2.value = \"The Value of {} is: {}\".format(change['owner'].__class__.__name__, change[\"new\"])\n",
    "\n",
    "w1.observe(w1_callback, \"value\")\n",
    "\n",
    "display(w1, w2)"
   ]
  },
  {
   "cell_type": "markdown",
   "metadata": {},
   "source": [
    "#### 4.3 Toggle Buttons"
   ]
  },
  {
   "cell_type": "code",
   "execution_count": 24,
   "metadata": {},
   "outputs": [
    {
     "data": {
      "application/vnd.jupyter.widget-view+json": {
       "model_id": "148f82ddb2c543a9b75dd3331ebc1c05",
       "version_major": 2,
       "version_minor": 0
      },
      "text/plain": [
       "ToggleButtons(description='colors', options=('red', 'green', 'blue', 'yellow'), value='red')"
      ]
     },
     "metadata": {},
     "output_type": "display_data"
    },
    {
     "data": {
      "application/vnd.jupyter.widget-view+json": {
       "model_id": "770a5f0718864c18a36dc7721c7ed974",
       "version_major": 2,
       "version_minor": 0
      },
      "text/plain": [
       "Label(value='')"
      ]
     },
     "metadata": {},
     "output_type": "display_data"
    }
   ],
   "source": [
    "w1 = widgets.ToggleButtons(description=\"colors\", options=[\"red\", \"green\", \"blue\", \"yellow\"])\n",
    "w2 = widgets.Label(value=\"\")\n",
    "\n",
    "def w1_callback(change):\n",
    "    w2.value = \"The Value of {} is: {}\".format(change['owner'].__class__.__name__, change[\"new\"])\n",
    "\n",
    "w1.observe(w1_callback, \"value\")\n",
    "\n",
    "display(w1, w2)"
   ]
  },
  {
   "cell_type": "markdown",
   "metadata": {},
   "source": [
    "#### 4.4 Color Picker"
   ]
  },
  {
   "cell_type": "code",
   "execution_count": 25,
   "metadata": {},
   "outputs": [
    {
     "data": {
      "application/vnd.jupyter.widget-view+json": {
       "model_id": "8fb6e56fb6fc46a09a249be884fd9c2e",
       "version_major": 2,
       "version_minor": 0
      },
      "text/plain": [
       "ColorPicker(value='black')"
      ]
     },
     "metadata": {},
     "output_type": "display_data"
    },
    {
     "data": {
      "application/vnd.jupyter.widget-view+json": {
       "model_id": "141f438ab8ee4395ab9b58e357e32050",
       "version_major": 2,
       "version_minor": 0
      },
      "text/plain": [
       "Label(value='')"
      ]
     },
     "metadata": {},
     "output_type": "display_data"
    }
   ],
   "source": [
    "w1 = widgets.ColorPicker()\n",
    "w2 = widgets.Label(value=\"\")\n",
    "\n",
    "def w1_callback(change):\n",
    "    w2.value = \"The Value of {} is: {}\".format(change['owner'].__class__.__name__, change[\"new\"])\n",
    "\n",
    "w1.observe(w1_callback, \"value\")\n",
    "\n",
    "display(w1, w2)"
   ]
  },
  {
   "cell_type": "markdown",
   "metadata": {},
   "source": [
    "#### 4.5 Date Picker"
   ]
  },
  {
   "cell_type": "code",
   "execution_count": 26,
   "metadata": {},
   "outputs": [
    {
     "data": {
      "application/vnd.jupyter.widget-view+json": {
       "model_id": "2239548aee104321bc235d6efa80e32f",
       "version_major": 2,
       "version_minor": 0
      },
      "text/plain": [
       "DatePicker(value=None, step=1)"
      ]
     },
     "metadata": {},
     "output_type": "display_data"
    },
    {
     "data": {
      "application/vnd.jupyter.widget-view+json": {
       "model_id": "72805082332b45ce9f75d8816961ff1e",
       "version_major": 2,
       "version_minor": 0
      },
      "text/plain": [
       "Label(value='')"
      ]
     },
     "metadata": {},
     "output_type": "display_data"
    }
   ],
   "source": [
    "w1 = widgets.DatePicker()\n",
    "w2 = widgets.Label(value=\"\")\n",
    "\n",
    "def w1_callback(change):\n",
    "    w2.value = \"The Value of {} is: {}\".format(change['owner'].__class__.__name__, change[\"new\"])\n",
    "\n",
    "w1.observe(w1_callback, \"value\")\n",
    "\n",
    "display(w1, w2)"
   ]
  },
  {
   "cell_type": "markdown",
   "metadata": {},
   "source": [
    "#### 4.6 Time Picker"
   ]
  },
  {
   "cell_type": "code",
   "execution_count": 27,
   "metadata": {},
   "outputs": [
    {
     "data": {
      "application/vnd.jupyter.widget-view+json": {
       "model_id": "11b4006f3531421990635082d4141671",
       "version_major": 2,
       "version_minor": 0
      },
      "text/plain": [
       "TimePicker(value=None, step=60.0)"
      ]
     },
     "metadata": {},
     "output_type": "display_data"
    },
    {
     "data": {
      "application/vnd.jupyter.widget-view+json": {
       "model_id": "2b425a46230648fc8e2953481053719a",
       "version_major": 2,
       "version_minor": 0
      },
      "text/plain": [
       "Label(value='')"
      ]
     },
     "metadata": {},
     "output_type": "display_data"
    }
   ],
   "source": [
    "w1 = widgets.TimePicker()\n",
    "w2 = widgets.Label(value=\"\")\n",
    "\n",
    "def w1_callback(change):\n",
    "    w2.value = \"The Value of {} is: {}\".format(change['owner'].__class__.__name__, change[\"new\"])\n",
    "\n",
    "w1.observe(w1_callback, \"value\")\n",
    "\n",
    "display(w1, w2)"
   ]
  },
  {
   "cell_type": "markdown",
   "metadata": {},
   "source": [
    "#### 4.7 Password Widget"
   ]
  },
  {
   "cell_type": "code",
   "execution_count": 28,
   "metadata": {},
   "outputs": [
    {
     "data": {
      "application/vnd.jupyter.widget-view+json": {
       "model_id": "9b6095e873e14c9993ecbc7bad936ca8",
       "version_major": 2,
       "version_minor": 0
      },
      "text/plain": [
       "Password()"
      ]
     },
     "metadata": {},
     "output_type": "display_data"
    },
    {
     "data": {
      "application/vnd.jupyter.widget-view+json": {
       "model_id": "ebc257c3f21f464b8f8ee07a65a8a796",
       "version_major": 2,
       "version_minor": 0
      },
      "text/plain": [
       "Label(value='')"
      ]
     },
     "metadata": {},
     "output_type": "display_data"
    }
   ],
   "source": [
    "w1 = widgets.Password()\n",
    "w2 = widgets.Label(value=\"\")\n",
    "\n",
    "def w1_callback(change):\n",
    "    w2.value = \"The Value of {} is: {}\".format(change['owner'].__class__.__name__, change[\"new\"])\n",
    "\n",
    "w1.observe(w1_callback, \"value\")\n",
    "\n",
    "display(w1, w2)"
   ]
  },
  {
   "cell_type": "markdown",
   "metadata": {},
   "source": [
    "#### 4.8 Range Slider"
   ]
  },
  {
   "cell_type": "code",
   "execution_count": 29,
   "metadata": {},
   "outputs": [
    {
     "data": {
      "application/vnd.jupyter.widget-view+json": {
       "model_id": "9c3a092ad7d04faa933342970fda3bf9",
       "version_major": 2,
       "version_minor": 0
      },
      "text/plain": [
       "IntRangeSlider(value=(2, 5), description='Select Range', max=10, min=-5)"
      ]
     },
     "metadata": {},
     "output_type": "display_data"
    },
    {
     "data": {
      "application/vnd.jupyter.widget-view+json": {
       "model_id": "1e6d1bdaff894b58a004a4b4b6d719f2",
       "version_major": 2,
       "version_minor": 0
      },
      "text/plain": [
       "Label(value='')"
      ]
     },
     "metadata": {},
     "output_type": "display_data"
    }
   ],
   "source": [
    "w1 = widgets.IntRangeSlider(description=\"Select Range\", value=(2,5), min=-5, max=10)\n",
    "w2 = widgets.Label(value=\"\")\n",
    "\n",
    "def w1_callback(change):\n",
    "    w2.value = \"The Value of {} is: {}\".format(change['owner'].__class__.__name__, change[\"new\"])\n",
    "\n",
    "w1.observe(w1_callback, \"value\")\n",
    "\n",
    "display(w1, w2)"
   ]
  },
  {
   "cell_type": "markdown",
   "metadata": {},
   "source": [
    "#### 4.9 Multi Select"
   ]
  },
  {
   "cell_type": "code",
   "execution_count": 30,
   "metadata": {},
   "outputs": [
    {
     "data": {
      "application/vnd.jupyter.widget-view+json": {
       "model_id": "d97059f39ece488bbaefc2a7444e12d1",
       "version_major": 2,
       "version_minor": 0
      },
      "text/plain": [
       "SelectMultiple(index=(0, 2), options=('opt1', 'opt2', 'opt3', 'Opt4'), value=('opt1', 'opt3'))"
      ]
     },
     "metadata": {},
     "output_type": "display_data"
    },
    {
     "data": {
      "application/vnd.jupyter.widget-view+json": {
       "model_id": "1ca86caa0bf7449caa76fc0b352752ab",
       "version_major": 2,
       "version_minor": 0
      },
      "text/plain": [
       "Label(value='')"
      ]
     },
     "metadata": {},
     "output_type": "display_data"
    }
   ],
   "source": [
    "w1 = widgets.SelectMultiple(options=[\"opt1\", \"opt2\", \"opt3\", \"Opt4\"], index=[0,2])\n",
    "w2 = widgets.Label(value=\"\")\n",
    "\n",
    "def w1_callback(change):\n",
    "    w2.value = \"The Value of {} is: {}\".format(change['owner'].__class__.__name__, change[\"new\"])\n",
    "\n",
    "w1.observe(w1_callback, \"value\")\n",
    "\n",
    "display(w1, w2)"
   ]
  },
  {
   "cell_type": "markdown",
   "metadata": {},
   "source": [
    "#### 4.10 Combo Box"
   ]
  },
  {
   "cell_type": "code",
   "execution_count": 33,
   "metadata": {},
   "outputs": [
    {
     "data": {
      "application/vnd.jupyter.widget-view+json": {
       "model_id": "ce138857a5a44629a6fcd873a7264ac3",
       "version_major": 2,
       "version_minor": 0
      },
      "text/plain": [
       "Combobox(value='', description='Color', options=('red', 'green', 'blue', 'yellow'))"
      ]
     },
     "metadata": {},
     "output_type": "display_data"
    },
    {
     "data": {
      "application/vnd.jupyter.widget-view+json": {
       "model_id": "373b8b6066864248bb7ad4a14e55b259",
       "version_major": 2,
       "version_minor": 0
      },
      "text/plain": [
       "Label(value='')"
      ]
     },
     "metadata": {},
     "output_type": "display_data"
    }
   ],
   "source": [
    "w1 = widgets.Combobox(options=[\"red\", \"green\", \"blue\", \"yellow\"], description=\"Color\")\n",
    "w2 = widgets.Label(value=\"\")\n",
    "\n",
    "def w1_callback(change):\n",
    "    w2.value = \"The Value of {} is: {}\".format(change['owner'].__class__.__name__, change[\"new\"])\n",
    "\n",
    "w1.observe(w1_callback, \"value\")\n",
    "\n",
    "display(w1, w2)"
   ]
  }
 ],
 "metadata": {
  "kernelspec": {
   "display_name": "Python 3",
   "language": "python",
   "name": "python3"
  },
  "language_info": {
   "codemirror_mode": {
    "name": "ipython",
    "version": 3
   },
   "file_extension": ".py",
   "mimetype": "text/x-python",
   "name": "python",
   "nbconvert_exporter": "python",
   "pygments_lexer": "ipython3",
   "version": "3.12.0"
  }
 },
 "nbformat": 4,
 "nbformat_minor": 2
}
